{
 "cells": [
  {
   "cell_type": "markdown",
   "id": "6b419051-7027-4615-8187-49d9e8f4f53b",
   "metadata": {},
   "source": [
    "## 실습4"
   ]
  },
  {
   "cell_type": "markdown",
   "id": "0bf6dcbb-6171-4102-bb52-b15c944c4b4d",
   "metadata": {},
   "source": [
    "### 제공된 exercise4.ipynb 파일에서 문제에서 요구하는 기능을 구현한 다음 메일로 제출한다.\n",
    "#### 메일 제목 : 파이썬실습4-성명, 메일주소 : unicodaum@hanmail.net"
   ]
  },
  {
   "attachments": {},
   "cell_type": "markdown",
   "id": "99a8af09-a3ce-412e-aff7-99fc22651966",
   "metadata": {},
   "source": [
    "#### [ 문제 1 ]\n",
    "- 5부터 10사이의 난수를 추출한다.\n",
    "- while 문을 사용해서 1부터 추출된 숫자값까지의 각 숫자들의 값과 제곱값을 행단위로 출력한다.\n",
    "- 만일 7이 추출된다면  \n",
    "        1 - 1<br>\n",
    "     \t2 - 4<br>\n",
    "     \t3 - 9<br>\n",
    "     \t4 - 16<br>\n",
    "     \t5 - 25<br>\n",
    "     \t6 - 36<br>\n",
    "     \t7 - 49"
   ]
  },
  {
   "cell_type": "code",
   "execution_count": 14,
   "id": "77fa28a8-8f2b-4105-9e72-b5f0933a087d",
   "metadata": {},
   "outputs": [
    {
     "name": "stdout",
     "output_type": "stream",
     "text": [
      "0 - 0\n",
      "1 - 1\n",
      "2 - 4\n",
      "3 - 9\n",
      "4 - 16\n",
      "5 - 25\n",
      "6 - 36\n",
      "7 - 49\n",
      "8 - 64\n",
      "9 - 81\n",
      "10 - 100\n"
     ]
    }
   ],
   "source": [
    "# 1번\n",
    "import random\n",
    "\n",
    "#난수 할당\n",
    "randnum = random.randint(5, 10)\n",
    "#print(randnum) #난수 확인용\n",
    "\n",
    "#반복을 위한 count 할당\n",
    "count = 0\n",
    "\n",
    "while( count <= randnum):#count가 randnum과 같거나 작을 경우 반복\n",
    "    \n",
    "    print(f\"{count} - {count**2}\")#원하는 변수 출력\n",
    "    count += 1 #연산 이후 count 1 증가, randnum까지\n"
   ]
  },
  {
   "attachments": {},
   "cell_type": "markdown",
   "id": "bf90237e-b32c-40c2-8cae-b41632e37d2d",
   "metadata": {},
   "source": [
    "#### [ 문제 2 ]\n",
    "- <span style=\"color:red;font-weight:bold\">1부터 6사이의 두 개 난수를 추출하여 각각 pair_num1, pair_num2 에 저장한다.</span>\n",
    "- while 문으로 다음 기능을 반복하도록 한다.\n",
    "  반복 기능 : 추출된 두 개의 숫자의 값이 다른지 비교하고 서로 다르면\n",
    "             \"pair_num1(X) 변수의 값이 pair_num2(Y) 변수의 값보다 크다.\"<br>\n",
    "              또는<br>\n",
    "             \"pair_num1(X) 변수의 값이 pair_num2(Y) 변수의 값보다 작다.\"<br>  \n",
    "              를 출력한다.\n",
    "             <span style=\"color:red;font-weight:bold\">1부터 6사이의 두 개 난수를 추출하여 각각 pair_num1, pair_num2 에 저장한다.</span>\n",
    "    \n",
    "- 추출된 두 개의 숫자가 동일하면 \"게임 끝\"이라는 메시지를 출력하고 종료한다.\n",
    "- <span style=\"color:red;font-weight:bold\">무한 루프를 사용하지 않고</span> 구현한다."
   ]
  },
  {
   "cell_type": "code",
   "execution_count": 17,
   "id": "6d25c040-8f6e-4455-a120-5ee62235f7cd",
   "metadata": {},
   "outputs": [
    {
     "name": "stdout",
     "output_type": "stream",
     "text": [
      "pair_num1(1) 변수의 값이 pair_num2(3) 변수의 값보다 작다.\n",
      "pair_num1(6) 변수의 값이 pair_num2(2) 변수의 값보다 크다.\n",
      "pair_num1(6) 변수의 값이 pair_num2(1) 변수의 값보다 크다.\n",
      "게임 끝\n"
     ]
    }
   ],
   "source": [
    "# 2번\n",
    "import random\n",
    "\n",
    "#난수 초기화\n",
    "pair_num1 = random.randint(1, 6)\n",
    "pair_num2 = random.randint(1, 6)\n",
    "\n",
    "while(pair_num1 != pair_num2):#두 수가 같지 않다면(True) 계속 반복\n",
    "    \n",
    "    if(pair_num1 > pair_num2):#1이 2보다 크면\n",
    "        print(f\"pair_num1({pair_num1}) 변수의 값이 pair_num2({pair_num2}) 변수의 값보다 크다.\")\n",
    "    \n",
    "    elif(pair_num1 < pair_num2):#1이 2보다 작으면\n",
    "        print(f\"pair_num1({pair_num1}) 변수의 값이 pair_num2({pair_num2}) 변수의 값보다 작다.\")\n",
    "    \n",
    "    else :#이외의 경우 에러 반환\n",
    "        print(f\"Error : pair_num1({pair_num1}), pair_num2({pair_num2})\")\n",
    "    \n",
    "    #난수 재할당\n",
    "    pair_num1 = random.randint(1, 6)\n",
    "    pair_num2 = random.randint(1, 6)\n",
    "    #print(pair_num1, pair_num2) #난수 확인 테스트\n",
    "\n",
    "print(\"게임 끝\")"
   ]
  },
  {
   "attachments": {},
   "cell_type": "markdown",
   "id": "4617d1c0-1ee6-42dd-b53b-77b16d967eef",
   "metadata": {},
   "source": [
    "#### [ 문제 3 ]\n",
    "\n",
    "- 2번 문제의 소스를 복사해서 <span style=\"color:red;font-weight:bold\">무한루프를 사용</span>하는 소스로 변경한다."
   ]
  },
  {
   "cell_type": "code",
   "execution_count": 8,
   "id": "421cd75c-41e1-42e3-bb21-366b028e74fc",
   "metadata": {},
   "outputs": [
    {
     "name": "stdout",
     "output_type": "stream",
     "text": [
      "pair_num1(3) 변수의 값이 pair_num2(1) 변수의 값보다 크다.\n",
      "pair_num1(4) 변수의 값이 pair_num2(5) 변수의 값보다 작다.\n",
      "pair_num1(2) 변수의 값이 pair_num2(3) 변수의 값보다 작다.\n",
      "pair_num1(4) 변수의 값이 pair_num2(3) 변수의 값보다 크다.\n",
      "pair_num1(5) 변수의 값이 pair_num2(1) 변수의 값보다 크다.\n",
      "pair_num1(1) 변수의 값이 pair_num2(5) 변수의 값보다 작다.\n",
      "게임 끝\n"
     ]
    }
   ],
   "source": [
    "# 3번\n",
    "import random\n",
    "\n",
    "#변수 초기화\n",
    "pair_num1 = random.randint(1, 6)\n",
    "pair_num2 = random.randint(1, 6)\n",
    "\n",
    "while(True):#무한루프\n",
    "    \n",
    "    if(pair_num1 > pair_num2):#1이 2보다 크면\n",
    "        print(f\"pair_num1({pair_num1}) 변수의 값이 pair_num2({pair_num2}) 변수의 값보다 크다.\")\n",
    "        \n",
    "    elif(pair_num1 < pair_num2):#1이 2보다 작으면\n",
    "        print(f\"pair_num1({pair_num1}) 변수의 값이 pair_num2({pair_num2}) 변수의 값보다 작다.\")\n",
    "        \n",
    "    elif(pair_num1 == pair_num2):#1이 2와 같으면 종료\n",
    "        print(\"게임 끝\")\n",
    "        break\n",
    "        \n",
    "    else:#이외의 경우 에러 반환\n",
    "        print(f\"Error : pair_num1({pair_num1}), pair_num2({pair_num2})\")\n",
    "\n",
    "    #난수 재할당\n",
    "    pair_num1 = random.randint(1, 6)\n",
    "    pair_num2 = random.randint(1, 6)\n",
    "    #print(pair_num1, pair_num2) #난수 확인 테스트"
   ]
  },
  {
   "attachments": {},
   "cell_type": "markdown",
   "id": "ed028def-1786-4823-bc57-d3b667de777f",
   "metadata": {},
   "source": [
    "#### [ 문제 4 ]\n",
    "\n",
    "- while 문으로 다음 기능을 반복하도록 한다.\n",
    "- 0부터 30사이의 난수를 추출한다.\n",
    "  추출된 숫자가 1이면 'A', 2 이면 'B', ... 26이면 'Z' 를 출력하는데\n",
    "  계속 난수 추출과 출력을 반복하다가 난수가 0이 추출되거나\n",
    "  27~30이 추출되면 반복을 끝낸다.\n",
    "\n",
    "  반복하는 동안 출력형식 :<br>  \t\n",
    "            <pre>\n",
    "            B(2)\n",
    "            A(1)\n",
    "            D(4)\n",
    "            :\n",
    "            </pre>\n",
    "- 마지막에는 \"수행횟수는 x 번입니다\"를 출력하고 종료한다. (수행 횟수는 출력을 기준으로 계산)"
   ]
  },
  {
   "cell_type": "code",
   "execution_count": 13,
   "id": "f0d8c325-7358-40c3-8a07-1c07c477813c",
   "metadata": {},
   "outputs": [
    {
     "name": "stdout",
     "output_type": "stream",
     "text": [
      "B(2)\n",
      "X(24)\n",
      "R(18)\n",
      "X(24)\n",
      "D(4)\n",
      "L(12)\n",
      "D(4)\n",
      "L(12)\n",
      "P(16)\n",
      "수행횟수는 9번입니다.\n"
     ]
    }
   ],
   "source": [
    "# 4번\n",
    "import random\n",
    "\n",
    "#print(chr(65)) #ASCII 확인용 코드\n",
    "\n",
    "#무한루프 전 반복수 확인 위한 count 변수 할당\n",
    "count = 0\n",
    "\n",
    "while(1) :#무한루프\n",
    "    randnum = random.randint(0, 30) #randnum 변수 값 할당\n",
    "    \n",
    "    if (randnum >= 1 and randnum <= 26) : #1과 26사이의 값\n",
    "        print(f\"{chr(64+randnum)}({randnum})\")\n",
    "        \n",
    "    elif(randnum == 0 or (randnum >= 27 and randnum <= 30)):#0이거나 27과 30사이의 값\n",
    "        print(f\"수행횟수는 {count}번입니다.\")\n",
    "        break #수행 후 무한루프 탈출\n",
    "        \n",
    "    else : #이외의 경우 에러메시지 반환\n",
    "        print(f\"Error - randnum : {randnum}\")\n",
    "        \n",
    "    count += 1 #반복마다 count 증가시켜 할당\n",
    "    "
   ]
  }
 ],
 "metadata": {
  "kernelspec": {
   "display_name": "Python 3 (ipykernel)",
   "language": "python",
   "name": "python3"
  },
  "language_info": {
   "codemirror_mode": {
    "name": "ipython",
    "version": 3
   },
   "file_extension": ".py",
   "mimetype": "text/x-python",
   "name": "python",
   "nbconvert_exporter": "python",
   "pygments_lexer": "ipython3",
   "version": "3.12.3"
  }
 },
 "nbformat": 4,
 "nbformat_minor": 5
}
