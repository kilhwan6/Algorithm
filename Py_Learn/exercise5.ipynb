{
 "cells": [
  {
   "cell_type": "markdown",
   "id": "6b419051-7027-4615-8187-49d9e8f4f53b",
   "metadata": {},
   "source": [
    "## 실습5"
   ]
  },
  {
   "cell_type": "markdown",
   "id": "0bf6dcbb-6171-4102-bb52-b15c944c4b4d",
   "metadata": {},
   "source": [
    "### 제공된 exercise5.ipynb 파일에서 문제에서 요구하는 기능을 구현한 다음 메일로 제출한다.\n",
    "#### 메일 제목 : 파이썬실습5-성명, 메일주소 : unicodaum@hanmail.net"
   ]
  },
  {
   "attachments": {},
   "cell_type": "markdown",
   "id": "99a8af09-a3ce-412e-aff7-99fc22651966",
   "metadata": {},
   "source": [
    "#### [ 문제 1 ]\n",
    "- 구현해야 하는 함수 사양\n",
    "  \n",
    "   함수명 : print_book_title<br>\n",
    "   매개변수 : 없음<br>\n",
    "   리턴값 : 없음<br>\n",
    "   기능 : 파이썬 교재명을 화면에 출력<br><br>\n",
    "   함수명 : print_book_publisher<br>\n",
    "   매개변수 : 없음<br>\n",
    "   리턴값 : 없음<br>\n",
    "   기능 : 파이썬 교재의 출판사명을 화면에 출력\n",
    "- print_book_title() 함수를 3회 호출하고 print_book_publisher() 함수를 5회 호출한다.\n"
   ]
  },
  {
   "cell_type": "code",
   "execution_count": 25,
   "id": "77fa28a8-8f2b-4105-9e72-b5f0933a087d",
   "metadata": {},
   "outputs": [
    {
     "name": "stdout",
     "output_type": "stream",
     "text": [
      "기초부터 실전까지 한 권에 끝내는 파이썬 프로그래밍\n",
      "기초부터 실전까지 한 권에 끝내는 파이썬 프로그래밍\n",
      "기초부터 실전까지 한 권에 끝내는 파이썬 프로그래밍\n",
      "시대인\n",
      "시대인\n",
      "시대인\n",
      "시대인\n",
      "시대인\n"
     ]
    }
   ],
   "source": [
    "# 1번\n",
    "\n",
    "def print_book_title():\n",
    "    print(\"기초부터 실전까지 한 권에 끝내는 파이썬 프로그래밍\")\n",
    "def print_book_publisher():\n",
    "    print(\"시대인\")\n",
    "\n",
    "for i in range(1,4):\n",
    "    print_book_title()\n",
    "for i in range(1,6):\n",
    "    print_book_publisher()"
   ]
  },
  {
   "attachments": {},
   "cell_type": "markdown",
   "id": "bf90237e-b32c-40c2-8cae-b41632e37d2d",
   "metadata": {},
   "source": [
    "#### [ 문제 2 ]\n",
    "- 구현해야 하는 함수 사양\n",
    "- \n",
    "   함수명 : get_book_title<br>\n",
    "   매개변수 : 없음<br>\n",
    "   리턴값 : 있음<br>\n",
    "   기능 : 파이썬 교재명을 리턴한다.<br><br>\n",
    "   함수명 : get_book_publisher<br>\n",
    "   매개변수 : 없음<br>\n",
    "   리턴값 : 있음<br>\n",
    "   기능 : 파이썬 교재의 출판사명을 리턴한다.<br>\n",
    "   \n",
    "- get_book_title() 함수를 호출하고 리턴되는 결과를 name 변수에 저장한 다음 name 변수의 값을 3회 \n",
    "  출력한다.\n",
    "- get_book_publisher() 함수를  호출하고 리턴되는 결과를 바로 화면에 출력하는 처리를 2회한다.\n"
   ]
  },
  {
   "cell_type": "code",
   "execution_count": 24,
   "id": "6d25c040-8f6e-4455-a120-5ee62235f7cd",
   "metadata": {},
   "outputs": [
    {
     "name": "stdout",
     "output_type": "stream",
     "text": [
      "기초부터 실전까지 한 권에 끝내는 파이썬 프로그래밍\n",
      "기초부터 실전까지 한 권에 끝내는 파이썬 프로그래밍\n",
      "기초부터 실전까지 한 권에 끝내는 파이썬 프로그래밍\n",
      "출판사\n",
      "출판사\n"
     ]
    }
   ],
   "source": [
    "# 2번\n",
    "\n",
    "def get_book_title():\n",
    "    return \"기초부터 실전까지 한 권에 끝내는 파이썬 프로그래밍\"\n",
    "def get_book_publisher():\n",
    "    return \"시대인\"\n",
    "\n",
    "for i in range(1,4):\n",
    "    name = get_book_title()\n",
    "    print(name)\n",
    "for i in range(1,3):\n",
    "    print_book_publisher()"
   ]
  },
  {
   "attachments": {},
   "cell_type": "markdown",
   "id": "4617d1c0-1ee6-42dd-b53b-77b16d967eef",
   "metadata": {},
   "source": [
    "#### [ 문제 3 ]\n",
    "\n",
    "- 구현해야 하는 함수 사양\n",
    "  \n",
    "   함수명 : expr<br>\n",
    "   매개변수 : 숫자 2개와 연산자 1개<br>\n",
    "   리턴값 : 연산 결과 또는  None<br>\n",
    "   기능 : 전달된 두 개의 숫자에 대해서 전달된 연산을 처리하고 그 결과를 리턴한다.<br>\n",
    "          연산자는 +, -, *, / 만 처리하며 그 외의 연산자는 연산을 하지 않고 None 을 리턴한다.<br>\n",
    "  \n",
    "- 숫자 2개와 연산자 1개를 전달하여 expr() 이라는 함수를 호출한 다음 리턴 결과가 None 이면<br>\n",
    "  <span style=\"color:blue\">수행 불가</span> 를 출력하고 그렇지 않으면 <span style=\"color:blue\">연산결과 : XX</span> 를 출력한다.\n"
   ]
  },
  {
   "cell_type": "code",
   "execution_count": 33,
   "id": "421cd75c-41e1-42e3-bb21-366b028e74fc",
   "metadata": {},
   "outputs": [
    {
     "name": "stdin",
     "output_type": "stream",
     "text": [
      "첫 번째 숫자를 적으세요. 1\n",
      "두 번째 숫자를 적으세요. 4\n",
      "+, -, *, / 중 연산자를 적으세요. +\n"
     ]
    },
    {
     "name": "stdout",
     "output_type": "stream",
     "text": [
      "수행 불가\n"
     ]
    }
   ],
   "source": [
    "# 3번\n",
    "\n",
    "#함수 정의\n",
    "def expr(num1, num2, calc):\n",
    "    num1 = float(num1)\n",
    "    num2 = float(num2)\n",
    "    \n",
    "    if calc == \"+\":\n",
    "        return num1 + num2\n",
    "    elif calc == \"-\":\n",
    "        return num1 - num2\n",
    "    elif calc == \"*\":\n",
    "        return num1 * num2\n",
    "    elif calc == \"/\":\n",
    "        return num1 / num2\n",
    "    else :\n",
    "        return \"None\"\n",
    "\n",
    "#input 문\n",
    "num1 = input(\"첫 번째 숫자를 적으세요.\")\n",
    "num2 = input(\"두 번째 숫자를 적으세요.\")\n",
    "calc =  input(\"+, -, *, / 중 연산자를 적으세요.\")\n",
    "\n",
    "#if문 실행\n",
    "if expr(num1, num2, calc) == \"None\":\n",
    "    print(\"수행 불가\")\n",
    "else :\n",
    "    print(f\"연산결과 : {expr(num1, num2, calc)}\")\n",
    "    "
   ]
  },
  {
   "attachments": {},
   "cell_type": "markdown",
   "id": "ed028def-1786-4823-bc57-d3b667de777f",
   "metadata": {},
   "source": [
    "#### [ 문제 4 ]\n",
    "\n",
    "- 구현해야 하는 함수 사양\n",
    "\n",
    "   함수명 : print_triangle<br>\n",
    "   매개변수 : 1개<br>\n",
    "   리턴값 : 없음<br>\n",
    "   기능 : 전달된 숫자 개수로 구성되는 삼각형을 출력한다. 출력 형식은 다음과 같다.<br>\n",
    "         2 전달시<br>\n",
    "         *<br>\n",
    "         * *<br>\n",
    "         5 전달시<br>\n",
    "         *<br>\n",
    "         **<br>\n",
    "         ***<br>\n",
    "         ****<br>\n",
    "         *****<br>\n",
    "         전달되는 아규먼트 값은 1 ~ 10으로 제한한다.<br>\n",
    "         1 ~ 10 이외의 값이 전달된 경우에는 처리하지 않고 그냥 리턴한다.\n",
    "  \n",
    "- 다음 코드로 print_triangle() 함수를 호출해 본다.\n",
    "\n",
    "      print_triangle(3)\n",
    "      print_triangle(15)\n",
    "      print_triangle(6) "
   ]
  },
  {
   "cell_type": "code",
   "execution_count": 37,
   "id": "f0d8c325-7358-40c3-8a07-1c07c477813c",
   "metadata": {},
   "outputs": [
    {
     "name": "stdout",
     "output_type": "stream",
     "text": [
      "*\n",
      "**\n",
      "***\n",
      "*\n",
      "**\n",
      "***\n",
      "****\n",
      "*****\n",
      "******\n"
     ]
    }
   ],
   "source": [
    "# 4번\n",
    "\n",
    "#함수 정의\n",
    "def print_triangle(num):\n",
    "    if 0 < num and num <= 10 and type(num) == int: #1~10의 정수 전달되었을 경우\n",
    "        for i in range(1, num+1): #1부터 num행까지 각각 i개의 별을 출력\n",
    "            print(\"*\"*i)\n",
    "            #for j in range(i) :\n",
    "            #    print(\"*\", end = \"\")\n",
    "        \n",
    "print_triangle(3)\n",
    "print_triangle(15)\n",
    "print_triangle(6)"
   ]
  },
  {
   "attachments": {},
   "cell_type": "markdown",
   "id": "a762fc1c-9246-4a8f-a3db-91f834170890",
   "metadata": {},
   "source": [
    "##### [ 문제 5 ]\n",
    "\n",
    "- 구현해야 하는 함수 사양\n",
    "  \n",
    "   함수명 : print_gugudan<br>\n",
    "   매개변수 : 1개<br>\n",
    "   리턴값 : 없음<br>\n",
    "   기능 : 전달된 숫자의 구구단을 출력한다.<br>\n",
    "          전달된 아규먼트가 int 타입인지 채크하고 int 타입이 아니면 그냥 리턴한다.<br>\n",
    "          전달된 아규먼트가 1~9 사이인지 채크하고 아니면 그냥 리턴한다.<br>\n",
    "          그 외의 경우에는 해당 단의 구구단을 행 단위로 출력한다.<br><br>\n",
    "\n",
    "                3 x 1 = 3<br>\n",
    "                3 x 2 - 6<br>\n",
    "                    :                       \n",
    "              \n",
    "  \n",
    "- 숫자를 다양하게 지정해서 print_ gugudan() 함수를 호출해 본다."
   ]
  },
  {
   "cell_type": "code",
   "execution_count": 21,
   "id": "41fbaf22-0f07-4f92-8aa1-12f742e53292",
   "metadata": {},
   "outputs": [
    {
     "name": "stdout",
     "output_type": "stream",
     "text": [
      "1 X 1 = 1\n",
      "1 X 2 = 2\n",
      "1 X 3 = 3\n",
      "1 X 4 = 4\n",
      "1 X 5 = 5\n",
      "1 X 6 = 6\n",
      "1 X 7 = 7\n",
      "1 X 8 = 8\n",
      "1 X 9 = 9\n",
      "2 X 1 = 2\n",
      "2 X 2 = 4\n",
      "2 X 3 = 6\n",
      "2 X 4 = 8\n",
      "2 X 5 = 10\n",
      "2 X 6 = 12\n",
      "2 X 7 = 14\n",
      "2 X 8 = 16\n",
      "2 X 9 = 18\n",
      "3 X 1 = 3\n",
      "3 X 2 = 6\n",
      "3 X 3 = 9\n",
      "3 X 4 = 12\n",
      "3 X 5 = 15\n",
      "3 X 6 = 18\n",
      "3 X 7 = 21\n",
      "3 X 8 = 24\n",
      "3 X 9 = 27\n",
      "4 X 1 = 4\n",
      "4 X 2 = 8\n",
      "4 X 3 = 12\n",
      "4 X 4 = 16\n",
      "4 X 5 = 20\n",
      "4 X 6 = 24\n",
      "4 X 7 = 28\n",
      "4 X 8 = 32\n",
      "4 X 9 = 36\n",
      "5 X 1 = 5\n",
      "5 X 2 = 10\n",
      "5 X 3 = 15\n",
      "5 X 4 = 20\n",
      "5 X 5 = 25\n",
      "5 X 6 = 30\n",
      "5 X 7 = 35\n",
      "5 X 8 = 40\n",
      "5 X 9 = 45\n",
      "6 X 1 = 6\n",
      "6 X 2 = 12\n",
      "6 X 3 = 18\n",
      "6 X 4 = 24\n",
      "6 X 5 = 30\n",
      "6 X 6 = 36\n",
      "6 X 7 = 42\n",
      "6 X 8 = 48\n",
      "6 X 9 = 54\n",
      "7 X 1 = 7\n",
      "7 X 2 = 14\n",
      "7 X 3 = 21\n",
      "7 X 4 = 28\n",
      "7 X 5 = 35\n",
      "7 X 6 = 42\n",
      "7 X 7 = 49\n",
      "7 X 8 = 56\n",
      "7 X 9 = 63\n",
      "8 X 1 = 8\n",
      "8 X 2 = 16\n",
      "8 X 3 = 24\n",
      "8 X 4 = 32\n",
      "8 X 5 = 40\n",
      "8 X 6 = 48\n",
      "8 X 7 = 56\n",
      "8 X 8 = 64\n",
      "8 X 9 = 72\n",
      "9 X 1 = 9\n",
      "9 X 2 = 18\n",
      "9 X 3 = 27\n",
      "9 X 4 = 36\n",
      "9 X 5 = 45\n",
      "9 X 6 = 54\n",
      "9 X 7 = 63\n",
      "9 X 8 = 72\n",
      "9 X 9 = 81\n"
     ]
    }
   ],
   "source": [
    "# 5번\n",
    "\n",
    "#함수 정의\n",
    "def print_gugudan(num):\n",
    "    if type(num) == int and 0 < num < 10 :\n",
    "        for i in range(1, 10):\n",
    "            print(f\"{num} X {i} = {num*i}\")\n",
    "    else :\n",
    "        return\n",
    "\n",
    "#for i in range(-2, 11):\n",
    "#    print_gugudan(i)\n",
    "\n",
    "#print_gugudan(1.5)"
   ]
  },
  {
   "attachments": {},
   "cell_type": "markdown",
   "id": "2caa06f3-6b6c-45c5-a407-340ef2ff93c0",
   "metadata": {},
   "source": [
    "#### [ 문제 6 ]\n",
    "\n",
    "- 구현해야 하는 함수 사양\n",
    "\n",
    "   함수명 : differ_two_value<br>\n",
    "   매개변수 : 2개<br>\n",
    "   리턴값 : 연산 결과값<br>\n",
    "   기능 : 전달받은 2개의 데이터 중에서 큰 값에서 작은 값의 차를 리턴 두 값이 동일하면 0 을 리턴한다.<br>\n",
    "          예를 들어)<br>\n",
    "           10, 20 이 전달되면 ---> 10 리턴<br>\n",
    "           20, 5 가 전달되면 ---> 15 리턴<br>\n",
    "           5, 30 이 전달되면 ---> 25 리턴<br>\n",
    "           6, 3 이 전달되면  ---> 3 리턴<br>\n",
    "\n",
    "- 1부터 30 사이의 난수 2 개를 추출하여 2번에서 구현된 함수를 다섯번호출하고 결과를 다음 형식으로 출력한다.<br>\n",
    "        X 와 Y 의 차는 W 입니다.<br>\n",
    "        X 와 Y 의 차는 W 입니다.<br>\n",
    "        X 와 Y 의 차는 W 입니다.<br>\n",
    "        X 와 Y 의 차는 W 입니다.<br>\n",
    "        X 와 Y 의 차는 W 입니다. \n"
   ]
  },
  {
   "cell_type": "code",
   "execution_count": 35,
   "id": "9344f9d3-389f-4767-8447-7a6c7fba58d2",
   "metadata": {},
   "outputs": [
    {
     "name": "stdout",
     "output_type": "stream",
     "text": [
      "9 와 29 의 차는 20 입니다.\n",
      "25 와 24 의 차는 1 입니다.\n",
      "27 와 4 의 차는 23 입니다.\n",
      "17 와 17 의 차는 0 입니다.\n",
      "9 와 9 의 차는 0 입니다.\n"
     ]
    }
   ],
   "source": [
    "# 6번\n",
    "\n",
    "import random\n",
    "\n",
    "#함수 정의\n",
    "def differ_two_value(num1, num2):\n",
    "    if type(num1) == int and type(num2) == int:\n",
    "        return abs(num1 - num2) #절댓값으로 한 번에 계산\n",
    "\n",
    "#5번 반복문\n",
    "for i in range(1, 6):\n",
    "    randnum1 = random.randint(1, 30)\n",
    "    randnum2 = random.randint(1, 30)\n",
    "    print(f\"{randnum1} 와 {randnum2} 의 차는 {differ_two_value(randnum1, randnum2)} 입니다.\")"
   ]
  },
  {
   "cell_type": "code",
   "execution_count": null,
   "id": "ee5638bd-d0c6-4350-8c66-3217ac1666d6",
   "metadata": {},
   "outputs": [],
   "source": []
  }
 ],
 "metadata": {
  "kernelspec": {
   "display_name": "Python 3 (ipykernel)",
   "language": "python",
   "name": "python3"
  },
  "language_info": {
   "codemirror_mode": {
    "name": "ipython",
    "version": 3
   },
   "file_extension": ".py",
   "mimetype": "text/x-python",
   "name": "python",
   "nbconvert_exporter": "python",
   "pygments_lexer": "ipython3",
   "version": "3.12.3"
  }
 },
 "nbformat": 4,
 "nbformat_minor": 5
}
