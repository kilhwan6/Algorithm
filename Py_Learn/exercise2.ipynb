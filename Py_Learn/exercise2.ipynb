{
 "cells": [
  {
   "cell_type": "markdown",
   "id": "6b419051-7027-4615-8187-49d9e8f4f53b",
   "metadata": {},
   "source": [
    "## 실습2"
   ]
  },
  {
   "cell_type": "markdown",
   "id": "0bf6dcbb-6171-4102-bb52-b15c944c4b4d",
   "metadata": {},
   "source": [
    "## 제공된 exercise2.ipynb 파일에서 문제에서 요구하는 기능을 구현한 다음 메일로 제출한다.\n",
    "#### 메일 제목 : 파이썬실습2-성명, 메일주소 : unicodaum@hanmail.net"
   ]
  },
  {
   "attachments": {},
   "cell_type": "markdown",
   "id": "99a8af09-a3ce-412e-aff7-99fc22651966",
   "metadata": {},
   "source": [
    "#### [ 문제 1 ]\n",
    "- time 이라는 변수에 32140를 대입한다. 이 값은 초단위의 값이다.\n",
    "- time 변수의 값을 가지고 연산하여 8시간 55분 40초  형식으로 변환하여 출력한다."
   ]
  },
  {
   "cell_type": "code",
   "execution_count": 31,
   "id": "77fa28a8-8f2b-4105-9e72-b5f0933a087d",
   "metadata": {},
   "outputs": [
    {
     "name": "stdout",
     "output_type": "stream",
     "text": [
      "8시간 55분 40초\n"
     ]
    }
   ],
   "source": [
    "# 1번\n",
    "time = 32140\n",
    "h = int(32140/60/60)\n",
    "m = int(32140/60%60)\n",
    "s = int(32140%60)\n",
    "print(f\"{h}시간 {m}분 {s}초\")"
   ]
  },
  {
   "attachments": {},
   "cell_type": "markdown",
   "id": "bf90237e-b32c-40c2-8cae-b41632e37d2d",
   "metadata": {},
   "source": [
    "#### [ 문제 2 ]\n",
    "- colorName 이라는 변수에 사용자로부터 칼라 이름을 하나 입력받는다.\n",
    "- 입력받은 칼라명이 'red' 이면 '#ff0000'을 출력하고 'red' 가 아니면 '#000000'을 출력한다.\n"
   ]
  },
  {
   "cell_type": "code",
   "execution_count": 9,
   "id": "6d25c040-8f6e-4455-a120-5ee62235f7cd",
   "metadata": {},
   "outputs": [
    {
     "name": "stdin",
     "output_type": "stream",
     "text": [
      "영어로 색상을 하나 입력하세요 red\n"
     ]
    },
    {
     "name": "stdout",
     "output_type": "stream",
     "text": [
      "#ff0000\n"
     ]
    }
   ],
   "source": [
    "# 2번\n",
    "colorName = input(\"영어로 색상을 하나 입력하세요\")\n",
    "if colorName == \"red\" :\n",
    "    print(\"#ff0000\")\n",
    "else :\n",
    "    print(\"#000000\")"
   ]
  },
  {
   "attachments": {},
   "cell_type": "markdown",
   "id": "4617d1c0-1ee6-42dd-b53b-77b16d967eef",
   "metadata": {},
   "source": [
    "#### [ 문제 3 ]\n",
    "\n",
    "- grade 라는 변수에 1 부터 6 사이의 숫자를 랜덤으로 추출하고 저장한다.  \n",
    "- 조건 평가 시 <span style=\"color:red;font-weight:bold\">and 연산자</span>를 사용해서 해결한다.\n",
    "- grade 의 값이 1 ~ 3이면 다음 결과를 출력한다.<br>\n",
    "    x 학년은 저학년입니다.\n",
    "- grade 의 값이 4 ~ 6이면 다음 결과를 출력한다.<br>\n",
    "    x 학년은 고학년입니다."
   ]
  },
  {
   "cell_type": "code",
   "execution_count": 21,
   "id": "421cd75c-41e1-42e3-bb21-366b028e74fc",
   "metadata": {},
   "outputs": [
    {
     "name": "stdout",
     "output_type": "stream",
     "text": [
      "3 학년은 저학년입니다.\n"
     ]
    }
   ],
   "source": [
    "# 3번\n",
    "import random\n",
    "grade = random.randint(1,6)\n",
    "if grade >= 1 and grade <= 3:\n",
    "    print(f\"{grade} 학년은 저학년입니다.\")\n",
    "elif grade >= 4 and grade <= 6:\n",
    "    print(f\"{grade} 학년은 고학년입니다.\")\n",
    "else :\n",
    "    print(f\"range error - grade :{grade}\")"
   ]
  },
  {
   "attachments": {},
   "cell_type": "markdown",
   "id": "ed028def-1786-4823-bc57-d3b667de777f",
   "metadata": {},
   "source": [
    "#### [ 문제 4 ]\n",
    "\n",
    "- grade 라는 변수에 1 부터 6 사이의 숫자를 랜덤으로 추출하고 저장한다.  \n",
    "- 조건 평가 시 <span style=\"color:red;font-weight:bold\">or 연산자</span>를 사용해서 해결한다.\n",
    "- grade 의 값이 1 ~ 3이면 다음 결과를 출력한다.<br>\n",
    "   x 학년은 저학년입니다.\n",
    "- grade 의 값이 4 ~ 6이면 다음 결과를 출력한다.<br>\n",
    "   x 학년은 고학년입니다."
   ]
  },
  {
   "cell_type": "code",
   "execution_count": 33,
   "id": "f0d8c325-7358-40c3-8a07-1c07c477813c",
   "metadata": {},
   "outputs": [
    {
     "name": "stdout",
     "output_type": "stream",
     "text": [
      "5 학년은 고학년입니다.\n"
     ]
    }
   ],
   "source": [
    "# 4번\n",
    "import random\n",
    "grade = random.randint(1,6)\n",
    "if grade == 1 or grade == 2 or grade == 3:\n",
    "    print(f\"{grade} 학년은 저학년입니다.\")\n",
    "elif grade == 4 or grade == 5 or grade == 6:\n",
    "    print(f\"{grade} 학년은 고학년입니다.\")\n",
    "else :\n",
    "    print(f\"range error - grade :{grade}\")"
   ]
  },
  {
   "attachments": {},
   "cell_type": "markdown",
   "id": "0d472d8f-ac7d-4af1-b62b-05dbc5de37be",
   "metadata": {},
   "source": [
    "#### [ 문제 5 ]\n",
    "\n",
    "- <span style=\"color:red;font-weight:bold\">if ~ elif ~ else 구문</span>으로 구현\n",
    "- 숫자를 한 개 입력받고 score 라는 변수를 생성한다. (입력 메시지 : \"점수를 입력하세요(0~100) : \")\n",
    "- score 변수의 값의 크기에 따라서 다음의 내용을 출력한다. \n",
    "  - score 변수의 값이 90~100 이면 \"xx점은 A등급입니다.\"\n",
    "  - score 변수의 값이 80~89 이면 \"xx점은 B등급입니다.\"\n",
    "  - score 변수의 값이 70~79 이면 \"xx점은 C등급입니다.\"\n",
    "  - score 변수의 값이 60~69 이면 \"xx점은 D등급입니다.\"\n",
    "  - score 변수의 값이 0~59 이면 \"xx점은 F등급입니다.\""
   ]
  },
  {
   "cell_type": "code",
   "execution_count": 24,
   "id": "a5fbd7cd-b70a-4f67-9c8b-bcf0472303a7",
   "metadata": {},
   "outputs": [
    {
     "name": "stdin",
     "output_type": "stream",
     "text": [
      "점수를 입력하세요(0~100): -1\n"
     ]
    },
    {
     "name": "stdout",
     "output_type": "stream",
     "text": [
      "range error - score : -1\n"
     ]
    }
   ],
   "source": [
    "# 5번\n",
    "score = int(input(\"점수를 입력하세요(0~100):\"))\n",
    "if score >= 90 and score <= 100 :\n",
    "    print(f\"{score}점은 A등급입니다.\")\n",
    "elif score >= 80 and score <= 89 :\n",
    "    print(f\"{score}점은 B등급입니다.\")\n",
    "elif score >= 70 and score <= 79 :\n",
    "    print(f\"{score}점은 C등급입니다.\")\n",
    "elif score >= 60 and score <= 69 :\n",
    "    print(f\"{score}점은 D등급입니다.\")\n",
    "elif score >= 0 and score <= 59 :\n",
    "    print(f\"{score}점은 F등급입니다.\")\n",
    "else :\n",
    "    print(f\"range error - score : {score}\")"
   ]
  },
  {
   "attachments": {},
   "cell_type": "markdown",
   "id": "e1333d09-86e4-45aa-9d60-bdbaec78c35d",
   "metadata": {},
   "source": [
    "#### [ 문제 6 ]\n",
    "\n",
    "- 5번 문제와 동일한 기능을 구현하는데 <span style=\"color:red;font-weight:bold\">match ~ case 구문</span>을 사용하여 구현한다."
   ]
  },
  {
   "cell_type": "code",
   "execution_count": 27,
   "id": "4dceb5c4-7ede-4a52-bede-a6ed13baac1b",
   "metadata": {},
   "outputs": [
    {
     "name": "stdin",
     "output_type": "stream",
     "text": [
      "점수를 입력하세요(0~100): 65\n"
     ]
    },
    {
     "name": "stdout",
     "output_type": "stream",
     "text": [
      "65점은 D등급입니다.\n"
     ]
    }
   ],
   "source": [
    "# 6번\n",
    "score = int(input(\"점수를 입력하세요(0~100):\"))\n",
    "match score:\n",
    "    case x if 90 <= x <= 100 :\n",
    "        print(f\"{score}점은 A등급입니다.\")\n",
    "    case x if 80 <= x <= 89 :\n",
    "        print(f\"{score}점은 B등급입니다.\")\n",
    "    case x if 70 <= x <= 79 :\n",
    "        print(f\"{score}점은 C등급입니다.\")\n",
    "    case x if 60 <= x <= 69 :\n",
    "        print(f\"{score}점은 D등급입니다.\")\n",
    "    case x if 0 <= x <= 59 :\n",
    "        print(f\"{score}점은 F등급입니다.\")\n",
    "    case _ :\n",
    "        print(f\"range error - score : {score}\")"
   ]
  }
 ],
 "metadata": {
  "kernelspec": {
   "display_name": "Python 3 (ipykernel)",
   "language": "python",
   "name": "python3"
  },
  "language_info": {
   "codemirror_mode": {
    "name": "ipython",
    "version": 3
   },
   "file_extension": ".py",
   "mimetype": "text/x-python",
   "name": "python",
   "nbconvert_exporter": "python",
   "pygments_lexer": "ipython3",
   "version": "3.12.3"
  }
 },
 "nbformat": 4,
 "nbformat_minor": 5
}
