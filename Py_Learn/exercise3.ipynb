{
 "cells": [
  {
   "cell_type": "markdown",
   "id": "6b419051-7027-4615-8187-49d9e8f4f53b",
   "metadata": {},
   "source": [
    "#### 실습3"
   ]
  },
  {
   "cell_type": "markdown",
   "id": "0bf6dcbb-6171-4102-bb52-b15c944c4b4d",
   "metadata": {},
   "source": [
    "#### 제공된 exercise3.ipynb 파일에서 문제에서 요구하는 기능을 구현한 다음 메일로 제출한다.\n",
    "#### 메일 제목 : 파이썬실습3-성명, 메일주소 : unicodaum@hanmail.net"
   ]
  },
  {
   "attachments": {},
   "cell_type": "markdown",
   "id": "99a8af09-a3ce-412e-aff7-99fc22651966",
   "metadata": {},
   "source": [
    "#### [ 문제 1 ]\n",
    "- for 문을 이용해서 다음과 같은 결과가 출력되도록 구현한다.\n",
    "- 1~10으로 구성되는 range 데이터를 생성하여 반복을 처리한다.\n",
    "\n",
    "    1 2 3 4 5 6 7 8 9 10"
   ]
  },
  {
   "cell_type": "code",
   "execution_count": 1,
   "id": "77fa28a8-8f2b-4105-9e72-b5f0933a087d",
   "metadata": {},
   "outputs": [
    {
     "name": "stdout",
     "output_type": "stream",
     "text": [
      "1 2 3 4 5 6 7 8 9 10 "
     ]
    }
   ],
   "source": [
    "# 1번\n",
    "for i in range(1,11):\n",
    "    print (i, end = \" \")"
   ]
  },
  {
   "attachments": {},
   "cell_type": "markdown",
   "id": "bf90237e-b32c-40c2-8cae-b41632e37d2d",
   "metadata": {},
   "source": [
    "#### [ 문제 2 ]\n",
    "- for 문을 이용해서 다음과 같은 결과가 출력되도록 구현한다.\n",
    "\n",
    "    9 : 홀수<br>\n",
    "    8 : 짝수<br>\n",
    "    7 : 홀수<br>\n",
    "    6 : 짝수<br> \n",
    "    5 : 홀수<br> \n",
    "    4 : 짝수"
   ]
  },
  {
   "cell_type": "code",
   "execution_count": 21,
   "id": "6d25c040-8f6e-4455-a120-5ee62235f7cd",
   "metadata": {},
   "outputs": [
    {
     "name": "stdout",
     "output_type": "stream",
     "text": [
      "9 : 홀수\n",
      "8 : 짝수\n",
      "7 : 홀수\n",
      "6 : 짝수\n",
      "5 : 홀수\n",
      "4 : 짝수\n"
     ]
    }
   ],
   "source": [
    "# 2번\n",
    "for i in range(9, 3, -1):\n",
    "    if i%2 == 1 :\n",
    "        print(f\"{i} : 홀수\")\n",
    "    elif i%2 == 0 :\n",
    "        print(f\"{i} : 짝수\")\n",
    "    else :\n",
    "        print(f\"{i} : range error\")"
   ]
  },
  {
   "attachments": {},
   "cell_type": "markdown",
   "id": "4617d1c0-1ee6-42dd-b53b-77b16d967eef",
   "metadata": {},
   "source": [
    "#### [ 문제 3 ]\n",
    "\n",
    "- 1부터 10사이의 난수를 하나 추출한다.\n",
    "- 30부터 40사이의 난수를 하나 추출한다.\n",
    "- 첫 번째 난수부터 두 번째 난수까지의 숫자들 중에서 짝수의 합을 구해 다음 형식으로 출력한다.\n",
    "\n",
    "        X 부터 Y 까지의 짝수의 합 : XX\n"
   ]
  },
  {
   "cell_type": "code",
   "execution_count": 14,
   "id": "421cd75c-41e1-42e3-bb21-366b028e74fc",
   "metadata": {},
   "outputs": [
    {
     "name": "stdout",
     "output_type": "stream",
     "text": [
      "7부터 36까지의 짝수의 합 : 330\n"
     ]
    }
   ],
   "source": [
    "# 3번\n",
    "import random\n",
    "num1 = random.randint(1, 10)\n",
    "num2 = random.randint(30, 40)\n",
    "sum = int(0)\n",
    "for i in range(num1, num2+1) :\n",
    "    if i%2 == 0:\n",
    "        sum += i\n",
    "print(f\"{num1}부터 {num2}까지의 짝수의 합 : {sum}\")"
   ]
  },
  {
   "attachments": {},
   "cell_type": "markdown",
   "id": "ed028def-1786-4823-bc57-d3b667de777f",
   "metadata": {},
   "source": [
    "#### [ 문제 4 ]\n",
    "\n",
    "- 5부터 10사이의 난수를 추출한다.\n",
    "- for 문을 사용해서 1부터 추출된 숫자값까지의 각 숫자들의 값과 제곱값을 행단위로 출력한다.\n",
    "- 만일 7이 추출된다면  \n",
    "        1 - 1<br>\n",
    "     \t2 - 4<br>\n",
    "     \t3 - 9<br>\n",
    "     \t4 - 16<br>\n",
    "     \t5 - 25<br>\n",
    "     \t6 - 36<br>\n",
    "     \t7 - 49\n"
   ]
  },
  {
   "cell_type": "code",
   "execution_count": 23,
   "id": "f0d8c325-7358-40c3-8a07-1c07c477813c",
   "metadata": {},
   "outputs": [
    {
     "name": "stdout",
     "output_type": "stream",
     "text": [
      "1 - 1\n",
      "2 - 4\n",
      "3 - 9\n",
      "4 - 16\n",
      "5 - 25\n",
      "6 - 36\n",
      "7 - 49\n",
      "8 - 64\n"
     ]
    }
   ],
   "source": [
    "# 4번\n",
    "import random\n",
    "rand_num = random.randint(5, 10)\n",
    "for i in range(1, rand_num+1):\n",
    "    print(f\"{i} - {i**2}\")"
   ]
  },
  {
   "cell_type": "code",
   "execution_count": null,
   "id": "dc121653-fd08-42bc-98e3-6de7a47131b7",
   "metadata": {},
   "outputs": [],
   "source": []
  }
 ],
 "metadata": {
  "kernelspec": {
   "display_name": "Python 3 (ipykernel)",
   "language": "python",
   "name": "python3"
  },
  "language_info": {
   "codemirror_mode": {
    "name": "ipython",
    "version": 3
   },
   "file_extension": ".py",
   "mimetype": "text/x-python",
   "name": "python",
   "nbconvert_exporter": "python",
   "pygments_lexer": "ipython3",
   "version": "3.12.3"
  }
 },
 "nbformat": 4,
 "nbformat_minor": 5
}
